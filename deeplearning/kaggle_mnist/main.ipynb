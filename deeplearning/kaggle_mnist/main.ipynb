{
 "cells": [
  {
   "cell_type": "code",
   "execution_count": 80,
   "metadata": {},
   "outputs": [],
   "source": [
    "from tensorflow import keras \n",
    "from keras import Sequential\n",
    "from keras.layers import Conv2D,Dense, MaxPool2D, Flatten"
   ]
  },
  {
   "cell_type": "code",
   "execution_count": 72,
   "metadata": {},
   "outputs": [],
   "source": [
    "import pandas as pd\n",
    "from sklearn.model_selection import train_test_split"
   ]
  },
  {
   "cell_type": "code",
   "execution_count": 73,
   "metadata": {},
   "outputs": [],
   "source": [
    "df = pd.read_csv('train.csv')\n",
    "test = pd.read_csv('test.csv')"
   ]
  },
  {
   "cell_type": "code",
   "execution_count": 74,
   "metadata": {},
   "outputs": [],
   "source": [
    "Y = df['label']\n",
    "features = df[df.columns.drop('label')]"
   ]
  },
  {
   "cell_type": "code",
   "execution_count": 75,
   "metadata": {},
   "outputs": [],
   "source": [
    "Y = Y.to_numpy()\n",
    "features = features.to_numpy()\n",
    "test = test.to_numpy()"
   ]
  },
  {
   "cell_type": "code",
   "execution_count": 76,
   "metadata": {},
   "outputs": [],
   "source": [
    "features = features.reshape(42000,28,28,1).astype('float32')\n",
    "test = test.reshape(test.shape[0],28,28,1).astype('float32')"
   ]
  },
  {
   "cell_type": "code",
   "execution_count": 77,
   "metadata": {},
   "outputs": [],
   "source": [
    "features = features/255\n",
    "test = test/255"
   ]
  },
  {
   "cell_type": "code",
   "execution_count": 78,
   "metadata": {},
   "outputs": [],
   "source": [
    "from keras.utils import to_categorical\n",
    "Y = to_categorical(Y)"
   ]
  },
  {
   "cell_type": "code",
   "execution_count": 79,
   "metadata": {},
   "outputs": [
    {
     "data": {
      "text/plain": [
       "10"
      ]
     },
     "execution_count": 79,
     "metadata": {},
     "output_type": "execute_result"
    }
   ],
   "source": [
    "num_classes = Y.shape[1]\n",
    "num_classes"
   ]
  },
  {
   "cell_type": "code",
   "execution_count": 84,
   "metadata": {},
   "outputs": [],
   "source": [
    "def convolutional_model():\n",
    "    #creating model\n",
    "    model = Sequential()\n",
    "    model.add(Conv2D(16,(5,5),activation='relu',input_shape = (28,28,1)))\n",
    "    model.add(MaxPool2D(pool_size=(2,2),strides=(2,2)))\n",
    "\n",
    "    model.add(Flatten())\n",
    "    model.add(Dense(100,activation='relu'))\n",
    "    model.add(Dense(num_classes,activation='softmax'))\n",
    "    \n",
    "    #compiling the model\n",
    "    model.compile(optimizer='adam',loss='categorical_crossentropy',metrics=['accuracy'])\n",
    "    return model"
   ]
  },
  {
   "cell_type": "code",
   "execution_count": 82,
   "metadata": {},
   "outputs": [],
   "source": [
    "from sklearn.model_selection import train_test_split\n",
    "\n",
    "x_train, x_test, y_train, y_test = train_test_split(features,Y,test_size=0.2)"
   ]
  },
  {
   "cell_type": "code",
   "execution_count": 102,
   "metadata": {},
   "outputs": [
    {
     "name": "stdout",
     "output_type": "stream",
     "text": [
      "Epoch 1/20\n",
      "168/168 - 4s - loss: 0.3953 - accuracy: 0.8883 - val_loss: 0.1577 - val_accuracy: 0.9531 - 4s/epoch - 25ms/step\n",
      "Epoch 2/20\n",
      "168/168 - 3s - loss: 0.1238 - accuracy: 0.9646 - val_loss: 0.1026 - val_accuracy: 0.9696 - 3s/epoch - 21ms/step\n",
      "Epoch 3/20\n",
      "168/168 - 4s - loss: 0.0808 - accuracy: 0.9759 - val_loss: 0.0705 - val_accuracy: 0.9779 - 4s/epoch - 22ms/step\n",
      "Epoch 4/20\n",
      "168/168 - 3s - loss: 0.0628 - accuracy: 0.9821 - val_loss: 0.0697 - val_accuracy: 0.9790 - 3s/epoch - 20ms/step\n",
      "Epoch 5/20\n",
      "168/168 - 3s - loss: 0.0507 - accuracy: 0.9848 - val_loss: 0.0582 - val_accuracy: 0.9830 - 3s/epoch - 20ms/step\n",
      "Epoch 6/20\n",
      "168/168 - 4s - loss: 0.0423 - accuracy: 0.9878 - val_loss: 0.0557 - val_accuracy: 0.9832 - 4s/epoch - 22ms/step\n",
      "Epoch 7/20\n",
      "168/168 - 3s - loss: 0.0348 - accuracy: 0.9893 - val_loss: 0.0507 - val_accuracy: 0.9852 - 3s/epoch - 19ms/step\n",
      "Epoch 8/20\n",
      "168/168 - 3s - loss: 0.0296 - accuracy: 0.9912 - val_loss: 0.0549 - val_accuracy: 0.9814 - 3s/epoch - 18ms/step\n",
      "Epoch 9/20\n",
      "168/168 - 3s - loss: 0.0256 - accuracy: 0.9928 - val_loss: 0.0496 - val_accuracy: 0.9851 - 3s/epoch - 19ms/step\n",
      "Epoch 10/20\n",
      "168/168 - 3s - loss: 0.0220 - accuracy: 0.9930 - val_loss: 0.0521 - val_accuracy: 0.9836 - 3s/epoch - 18ms/step\n",
      "Epoch 11/20\n",
      "168/168 - 3s - loss: 0.0183 - accuracy: 0.9945 - val_loss: 0.0543 - val_accuracy: 0.9833 - 3s/epoch - 19ms/step\n",
      "Epoch 12/20\n",
      "168/168 - 3s - loss: 0.0159 - accuracy: 0.9957 - val_loss: 0.0537 - val_accuracy: 0.9840 - 3s/epoch - 19ms/step\n",
      "Epoch 13/20\n",
      "168/168 - 3s - loss: 0.0133 - accuracy: 0.9964 - val_loss: 0.0522 - val_accuracy: 0.9852 - 3s/epoch - 19ms/step\n",
      "Epoch 14/20\n",
      "168/168 - 3s - loss: 0.0101 - accuracy: 0.9973 - val_loss: 0.0508 - val_accuracy: 0.9855 - 3s/epoch - 19ms/step\n",
      "Epoch 15/20\n",
      "168/168 - 3s - loss: 0.0081 - accuracy: 0.9981 - val_loss: 0.0511 - val_accuracy: 0.9858 - 3s/epoch - 19ms/step\n",
      "Epoch 16/20\n",
      "168/168 - 3s - loss: 0.0078 - accuracy: 0.9983 - val_loss: 0.0558 - val_accuracy: 0.9851 - 3s/epoch - 19ms/step\n",
      "Epoch 17/20\n",
      "168/168 - 3s - loss: 0.0074 - accuracy: 0.9979 - val_loss: 0.0558 - val_accuracy: 0.9852 - 3s/epoch - 19ms/step\n",
      "Epoch 18/20\n",
      "168/168 - 3s - loss: 0.0080 - accuracy: 0.9976 - val_loss: 0.0584 - val_accuracy: 0.9857 - 3s/epoch - 19ms/step\n",
      "Epoch 19/20\n",
      "168/168 - 3s - loss: 0.0069 - accuracy: 0.9981 - val_loss: 0.0556 - val_accuracy: 0.9856 - 3s/epoch - 19ms/step\n",
      "Epoch 20/20\n",
      "168/168 - 3s - loss: 0.0040 - accuracy: 0.9991 - val_loss: 0.0609 - val_accuracy: 0.9861 - 3s/epoch - 19ms/step\n"
     ]
    },
    {
     "data": {
      "text/plain": [
       "<keras.src.callbacks.History at 0x22504da51d0>"
      ]
     },
     "execution_count": 102,
     "metadata": {},
     "output_type": "execute_result"
    }
   ],
   "source": [
    "model = convolutional_model()\n",
    "\n",
    "model.fit(x_train,y_train,batch_size=200,verbose=2,validation_data=(x_test,y_test),epochs=20)"
   ]
  },
  {
   "cell_type": "code",
   "execution_count": 152,
   "metadata": {},
   "outputs": [
    {
     "name": "stdout",
     "output_type": "stream",
     "text": [
      "875/875 [==============================] - 2s 3ms/step\n"
     ]
    }
   ],
   "source": [
    "y_pred = model.predict(test)"
   ]
  },
  {
   "cell_type": "code",
   "execution_count": 118,
   "metadata": {},
   "outputs": [],
   "source": [
    "Y = pd.DataFrame(Y)"
   ]
  },
  {
   "cell_type": "code",
   "execution_count": 140,
   "metadata": {},
   "outputs": [],
   "source": [
    "import numpy"
   ]
  },
  {
   "cell_type": "code",
   "execution_count": 154,
   "metadata": {},
   "outputs": [
    {
     "data": {
      "text/plain": [
       "array([[0, 0, 1, ..., 0, 0, 0],\n",
       "       [1, 0, 0, ..., 0, 0, 0],\n",
       "       [0, 0, 0, ..., 0, 0, 1],\n",
       "       ...,\n",
       "       [0, 0, 0, ..., 0, 0, 0],\n",
       "       [0, 0, 0, ..., 0, 0, 1],\n",
       "       [0, 0, 1, ..., 0, 0, 0]])"
      ]
     },
     "execution_count": 154,
     "metadata": {},
     "output_type": "execute_result"
    }
   ],
   "source": [
    "y_pred.round().astype('int')"
   ]
  },
  {
   "cell_type": "code",
   "execution_count": 157,
   "metadata": {},
   "outputs": [],
   "source": [
    "y_pred = numpy.argmax(y_pred, axis=1)"
   ]
  },
  {
   "cell_type": "code",
   "execution_count": 159,
   "metadata": {},
   "outputs": [],
   "source": [
    "y_pred = pd.DataFrame(y_pred)"
   ]
  },
  {
   "cell_type": "code",
   "execution_count": 164,
   "metadata": {},
   "outputs": [],
   "source": [
    "y_pred.index +=1"
   ]
  },
  {
   "cell_type": "code",
   "execution_count": 162,
   "metadata": {},
   "outputs": [],
   "source": [
    "submission = y_pred.to_csv('submission.csv')"
   ]
  }
 ],
 "metadata": {
  "kernelspec": {
   "display_name": "Python 3",
   "language": "python",
   "name": "python3"
  },
  "language_info": {
   "codemirror_mode": {
    "name": "ipython",
    "version": 3
   },
   "file_extension": ".py",
   "mimetype": "text/x-python",
   "name": "python",
   "nbconvert_exporter": "python",
   "pygments_lexer": "ipython3",
   "version": "3.11.7"
  }
 },
 "nbformat": 4,
 "nbformat_minor": 2
}
