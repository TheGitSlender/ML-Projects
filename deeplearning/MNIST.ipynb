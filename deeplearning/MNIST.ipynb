{
 "cells": [
  {
   "cell_type": "code",
   "execution_count": 1,
   "metadata": {},
   "outputs": [],
   "source": [
    "from tensorflow import keras\n",
    "from keras.models import Sequential\n",
    "from keras.layers import Dense\n",
    "from keras.utils import to_categorical"
   ]
  },
  {
   "cell_type": "code",
   "execution_count": 2,
   "metadata": {},
   "outputs": [],
   "source": [
    "from keras.layers import Conv2D, MaxPool2D,Flatten"
   ]
  },
  {
   "cell_type": "code",
   "execution_count": 3,
   "metadata": {},
   "outputs": [],
   "source": [
    "from keras.datasets import mnist\n",
    "\n",
    "(x_train,y_train),(x_test,y_test) = mnist.load_data()\n",
    "\n",
    "x_train = x_train.reshape(x_train.shape[0],28,28,1).astype('float32')\n",
    "x_test = x_test.reshape(x_test.shape[0],28,28,1).astype('float32')"
   ]
  },
  {
   "cell_type": "code",
   "execution_count": 4,
   "metadata": {},
   "outputs": [],
   "source": [
    "x_train = x_train/255\n",
    "x_test = x_test/255"
   ]
  },
  {
   "cell_type": "code",
   "execution_count": 5,
   "metadata": {},
   "outputs": [],
   "source": [
    "y_train = to_categorical(y_train)\n",
    "y_test = to_categorical(y_test)"
   ]
  },
  {
   "cell_type": "code",
   "execution_count": 6,
   "metadata": {},
   "outputs": [],
   "source": [
    "num_classes = y_test.shape[1]"
   ]
  },
  {
   "cell_type": "code",
   "execution_count": 7,
   "metadata": {},
   "outputs": [],
   "source": [
    "def convolutional_model():\n",
    "    #create model\n",
    "    model = Sequential()\n",
    "    model.add(Conv2D(16, (5, 5), activation='relu', input_shape=(28, 28, 1)))\n",
    "    model.add(MaxPool2D(pool_size=(2,2),strides=(2,2)))\n",
    "    \n",
    "    model.add(Flatten())\n",
    "    model.add(Dense(100,activation='relu'))\n",
    "    model.add(Dense(num_classes,activation ='softmax'))\n",
    "\n",
    "    #compile model\n",
    "    model.compile(optimizer='adam',loss='categorical_crossentropy',metrics=['accuracy'])\n",
    "    return model"
   ]
  },
  {
   "cell_type": "code",
   "execution_count": 9,
   "metadata": {},
   "outputs": [
    {
     "name": "stdout",
     "output_type": "stream",
     "text": [
      "Epoch 1/10\n",
      "300/300 - 6s - loss: 0.2837 - accuracy: 0.9213 - val_loss: 0.0929 - val_accuracy: 0.9728 - 6s/epoch - 21ms/step\n",
      "Epoch 2/10\n",
      "300/300 - 6s - loss: 0.0841 - accuracy: 0.9756 - val_loss: 0.0581 - val_accuracy: 0.9809 - 6s/epoch - 19ms/step\n",
      "Epoch 3/10\n",
      "300/300 - 6s - loss: 0.0566 - accuracy: 0.9830 - val_loss: 0.0432 - val_accuracy: 0.9855 - 6s/epoch - 19ms/step\n",
      "Epoch 4/10\n",
      "300/300 - 6s - loss: 0.0439 - accuracy: 0.9867 - val_loss: 0.0405 - val_accuracy: 0.9868 - 6s/epoch - 19ms/step\n",
      "Epoch 5/10\n",
      "300/300 - 6s - loss: 0.0347 - accuracy: 0.9894 - val_loss: 0.0444 - val_accuracy: 0.9853 - 6s/epoch - 19ms/step\n",
      "Epoch 6/10\n",
      "300/300 - 6s - loss: 0.0282 - accuracy: 0.9913 - val_loss: 0.0350 - val_accuracy: 0.9889 - 6s/epoch - 19ms/step\n",
      "Epoch 7/10\n",
      "300/300 - 6s - loss: 0.0240 - accuracy: 0.9926 - val_loss: 0.0334 - val_accuracy: 0.9894 - 6s/epoch - 19ms/step\n",
      "Epoch 8/10\n",
      "300/300 - 6s - loss: 0.0200 - accuracy: 0.9939 - val_loss: 0.0391 - val_accuracy: 0.9877 - 6s/epoch - 19ms/step\n",
      "Epoch 9/10\n",
      "300/300 - 6s - loss: 0.0170 - accuracy: 0.9949 - val_loss: 0.0393 - val_accuracy: 0.9880 - 6s/epoch - 19ms/step\n",
      "Epoch 10/10\n",
      "300/300 - 6s - loss: 0.0143 - accuracy: 0.9957 - val_loss: 0.0405 - val_accuracy: 0.9882 - 6s/epoch - 19ms/step\n",
      "Accuracy: 0.9882000088691711\n",
      " Error: 1.1799991130828857\n"
     ]
    }
   ],
   "source": [
    "#build the model\n",
    "model = convolutional_model()\n",
    "#fit the model\n",
    "model.fit(x_train, y_train, validation_data=(x_test, y_test), epochs=10, batch_size=200, verbose=2)\n",
    "#evaluate the model\n",
    "scores = model.evaluate(x_test,y_test,verbose=0)\n",
    "print(\"Accuracy: {}\\n Error: {}\".format(scores[1],100-scores[1]*100))"
   ]
  },
  {
   "cell_type": "code",
   "execution_count": 11,
   "metadata": {},
   "outputs": [],
   "source": [
    "def convolutional_model_2():\n",
    "    \n",
    "    # create model\n",
    "    model = Sequential()\n",
    "    model.add(Conv2D(16, (5, 5), activation='relu', input_shape=(28, 28, 1)))\n",
    "    model.add(MaxPool2D(pool_size=(2, 2), strides=(2, 2)))\n",
    "    \n",
    "    model.add(Conv2D(8, (2, 2), activation='relu'))\n",
    "    model.add(MaxPool2D(pool_size=(2, 2), strides=(2, 2)))\n",
    "    \n",
    "    model.add(Flatten())\n",
    "    model.add(Dense(100, activation='relu'))\n",
    "    model.add(Dense(num_classes, activation='softmax'))\n",
    "    \n",
    "    # Compile model\n",
    "    model.compile(optimizer='adam', loss='categorical_crossentropy',  metrics=['accuracy'])\n",
    "    return model"
   ]
  },
  {
   "cell_type": "code",
   "execution_count": 12,
   "metadata": {},
   "outputs": [
    {
     "name": "stdout",
     "output_type": "stream",
     "text": [
      "Epoch 1/10\n",
      "300/300 - 7s - loss: 0.4600 - accuracy: 0.8715 - val_loss: 0.1302 - val_accuracy: 0.9600 - 7s/epoch - 24ms/step\n",
      "Epoch 2/10\n",
      "300/300 - 6s - loss: 0.1122 - accuracy: 0.9663 - val_loss: 0.0776 - val_accuracy: 0.9768 - 6s/epoch - 20ms/step\n",
      "Epoch 3/10\n",
      "300/300 - 6s - loss: 0.0802 - accuracy: 0.9759 - val_loss: 0.0619 - val_accuracy: 0.9797 - 6s/epoch - 21ms/step\n",
      "Epoch 4/10\n",
      "300/300 - 6s - loss: 0.0659 - accuracy: 0.9802 - val_loss: 0.0569 - val_accuracy: 0.9822 - 6s/epoch - 21ms/step\n",
      "Epoch 5/10\n",
      "300/300 - 6s - loss: 0.0565 - accuracy: 0.9827 - val_loss: 0.0538 - val_accuracy: 0.9828 - 6s/epoch - 20ms/step\n",
      "Epoch 6/10\n",
      "300/300 - 6s - loss: 0.0504 - accuracy: 0.9846 - val_loss: 0.0496 - val_accuracy: 0.9841 - 6s/epoch - 20ms/step\n",
      "Epoch 7/10\n",
      "300/300 - 6s - loss: 0.0440 - accuracy: 0.9866 - val_loss: 0.0448 - val_accuracy: 0.9853 - 6s/epoch - 20ms/step\n",
      "Epoch 8/10\n",
      "300/300 - 6s - loss: 0.0406 - accuracy: 0.9874 - val_loss: 0.0414 - val_accuracy: 0.9857 - 6s/epoch - 20ms/step\n",
      "Epoch 9/10\n",
      "300/300 - 6s - loss: 0.0360 - accuracy: 0.9887 - val_loss: 0.0384 - val_accuracy: 0.9864 - 6s/epoch - 20ms/step\n",
      "Epoch 10/10\n",
      "300/300 - 6s - loss: 0.0341 - accuracy: 0.9894 - val_loss: 0.0391 - val_accuracy: 0.9860 - 6s/epoch - 20ms/step\n",
      "Accuracy: 0.9860000014305115\n",
      " Error: 1.3999998569488525\n"
     ]
    }
   ],
   "source": [
    "model = convolutional_model_2()\n",
    "\n",
    "model.fit(x_train, y_train, validation_data=(x_test, y_test), epochs=10, batch_size=200, verbose=2)\n",
    "\n",
    "scores = model.evaluate(x_test,y_test,verbose=0)\n",
    "print(\"Accuracy: {}\\n Error: {}\".format(scores[1],100-scores[1]*100))"
   ]
  }
 ],
 "metadata": {
  "kernelspec": {
   "display_name": "Python 3",
   "language": "python",
   "name": "python3"
  },
  "language_info": {
   "codemirror_mode": {
    "name": "ipython",
    "version": 3
   },
   "file_extension": ".py",
   "mimetype": "text/x-python",
   "name": "python",
   "nbconvert_exporter": "python",
   "pygments_lexer": "ipython3",
   "version": "3.11.6"
  }
 },
 "nbformat": 4,
 "nbformat_minor": 2
}
